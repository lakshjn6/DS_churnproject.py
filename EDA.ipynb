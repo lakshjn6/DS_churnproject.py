{
    "cells": [
        {
            "cell_type": "code",
            "metadata": {},
            "source": "df.head()",
            "outputs": []
        },
        {
            "cell_type": "code",
            "metadata": {},
            "source": "import matplotlib.pyplot as plt",
            "outputs": []
        },
        {
            "cell_type": "code",
            "metadata": {},
            "source": "plt.hist([churn_yes,churn_no],color=['g','r'],label=['Churn=Yes','Churn=No'])\nplt.legend()\nplt.title('no. customers  vs tenure')\n",
            "outputs": []
        },
        {
            "cell_type": "code",
            "metadata": {},
            "source": "plt.hist([churn_yes_tenure,churn_no_tenure],color=['g','r'],label=['churn_yes','churn_no'])\nplt.legend()\nplt.title('num of student X monthlycharges ')\nplt.show()",
            "outputs": []
        },
        {
            "cell_type": "code",
            "metadata": {},
            "source": "df1.head()",
            "outputs": []
        },
        {
            "cell_type": "code",
            "metadata": {},
            "source": "df2.head()",
            "outputs": []
        },
        {
            "cell_type": "code",
            "metadata": {},
            "source": "import seaborn as sns",
            "outputs": []
        }
    ],
    "metadata": {
        "kernelspec": {
            "display_name": "Python 3 (ipykernel)",
            "language": "python",
            "name": "python3"
        },
        "language_info": {
            "codemirror_mode": {
                "name": "ipython",
                "version": 3
            },
            "file_extension": ".py",
            "mimetype": "text/x-python",
            "name": "python",
            "nbconvert_exporter": "python",
            "pygments_lexer": "ipython3",
            "version": "3.12.4"
        }
    },
    "nbformat": 4,
    "nbformat_minor": 4
}