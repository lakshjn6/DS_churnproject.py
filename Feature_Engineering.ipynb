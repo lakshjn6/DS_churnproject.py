{
    "cells": [
        {
            "cell_type": "code",
            "metadata": {},
            "source": "df.drop('customerID',inplace=True,axis='columns')",
            "outputs": []
        },
        {
            "cell_type": "code",
            "metadata": {},
            "source": "df1.replace('No internet service','No',inplace=True)",
            "outputs": []
        },
        {
            "cell_type": "code",
            "metadata": {},
            "source": "df1.replace('No phone service','No',inplace=True)",
            "outputs": []
        },
        {
            "cell_type": "code",
            "metadata": {},
            "source": "\nyes_no_columns = ['Partner','Dependents','PhoneService','MultipleLines','OnlineSecurity','OnlineBackup',\n                  'DeviceProtection','TechSupport','StreamingTV','StreamingMovies','PaperlessBilling','Churn']\nfor cola in yes_no_columns:\n    df1[cola].replace({'Yes':1,'No':0},inplace=True)\n",
            "outputs": []
        },
        {
            "cell_type": "code",
            "metadata": {},
            "source": "df1['gender'].replace({'Female':1,'Male':0},inplace=True)",
            "outputs": []
        },
        {
            "cell_type": "code",
            "metadata": {},
            "source": "from sklearn.preprocessing import MinMaxScaler",
            "outputs": []
        },
        {
            "cell_type": "code",
            "metadata": {},
            "source": "scaler=MinMaxScaler()",
            "outputs": []
        },
        {
            "cell_type": "code",
            "metadata": {},
            "source": "df2.loc[:, ['tenure', 'MonthlyCharges', 'TotalCharges']]= scaler.fit_transform(df2[['tenure', 'MonthlyCharges', 'TotalCharges']])",
            "outputs": []
        },
        {
            "cell_type": "code",
            "metadata": {},
            "source": "X = df2.drop('Churn',axis='columns')\ny = df2['Churn']\n\nfrom sklearn.model_selection import train_test_split\nX_train, X_test, y_train, y_test = train_test_split(X,y,test_size=0.2,random_state=5)",
            "outputs": []
        }
    ],
    "metadata": {
        "kernelspec": {
            "display_name": "Python 3 (ipykernel)",
            "language": "python",
            "name": "python3"
        },
        "language_info": {
            "codemirror_mode": {
                "name": "ipython",
                "version": 3
            },
            "file_extension": ".py",
            "mimetype": "text/x-python",
            "name": "python",
            "nbconvert_exporter": "python",
            "pygments_lexer": "ipython3",
            "version": "3.12.4"
        }
    },
    "nbformat": 4,
    "nbformat_minor": 4
}