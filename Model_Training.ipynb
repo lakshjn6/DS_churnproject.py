{
    "cells": [
        {
            "cell_type": "code",
            "metadata": {},
            "source": "X_train",
            "outputs": []
        },
        {
            "cell_type": "code",
            "metadata": {},
            "source": "y_train",
            "outputs": []
        },
        {
            "cell_type": "code",
            "metadata": {},
            "source": "model=Sequential(\n[   tf.keras.layers.Dense(26,input_shape=(26,),activation='relu'),\n    tf.keras.layers.Dense(units=15,activation='relu'),\n    tf.keras.layers.Dense(units=1,activation='sigmoid')\n\n    \n]\n\n    \n)",
            "outputs": []
        },
        {
            "cell_type": "code",
            "metadata": {},
            "source": "model.compile(optimizer='adam',\n              loss='binary_crossentropy',\n              metrics=['accuracy']\n             )",
            "outputs": []
        },
        {
            "cell_type": "code",
            "metadata": {},
            "source": "model.fit(X_train,y_train,epochs=100)",
            "outputs": []
        },
        {
            "cell_type": "code",
            "metadata": {},
            "source": "yp=model.predict(X_test)",
            "outputs": []
        },
        {
            "cell_type": "code",
            "metadata": {},
            "source": "from sklearn.metrics import classification_report,confusion_matrix",
            "outputs": []
        },
        {
            "cell_type": "code",
            "metadata": {},
            "source": "print(classification_report(y_pred,y_test))",
            "outputs": []
        },
        {
            "cell_type": "code",
            "metadata": {},
            "source": "##accuracy of model is about 79%",
            "outputs": []
        },
        {
            "cell_type": "code",
            "metadata": {},
            "source": "cm= tf.math.confusion_matrix(labels=y_test,predictions=y_pred)",
            "outputs": []
        }
    ],
    "metadata": {
        "kernelspec": {
            "display_name": "Python 3 (ipykernel)",
            "language": "python",
            "name": "python3"
        },
        "language_info": {
            "codemirror_mode": {
                "name": "ipython",
                "version": 3
            },
            "file_extension": ".py",
            "mimetype": "text/x-python",
            "name": "python",
            "nbconvert_exporter": "python",
            "pygments_lexer": "ipython3",
            "version": "3.12.4"
        }
    },
    "nbformat": 4,
    "nbformat_minor": 4
}